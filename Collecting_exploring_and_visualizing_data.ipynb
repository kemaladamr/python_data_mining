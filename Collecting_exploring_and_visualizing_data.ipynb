{
  "nbformat": 4,
  "nbformat_minor": 0,
  "metadata": {
    "colab": {
      "name": "Collecting_exploring_and_visualizing_data.ipynb",
      "provenance": [],
      "collapsed_sections": [],
      "mount_file_id": "13EhnRlzlYOeLGZLSAEqnerwYNfqDUVtk",
      "authorship_tag": "ABX9TyOSZSdPbCb5B3T5+YRe2w+s",
      "include_colab_link": true
    },
    "kernelspec": {
      "name": "python3",
      "display_name": "Python 3"
    },
    "language_info": {
      "name": "python"
    }
  },
  "cells": [
    {
      "cell_type": "markdown",
      "metadata": {
        "id": "view-in-github",
        "colab_type": "text"
      },
      "source": [
        "<a href=\"https://colab.research.google.com/github/kemaladamr/python_data_mining/blob/main/Collecting_exploring_and_visualizing_data.ipynb\" target=\"_parent\"><img src=\"https://colab.research.google.com/assets/colab-badge.svg\" alt=\"Open In Colab\"/></a>"
      ]
    },
    {
      "cell_type": "code",
      "execution_count": 1,
      "metadata": {
        "id": "INkykrEBrdTa"
      },
      "outputs": [],
      "source": [
        "import sqlite3"
      ]
    },
    {
      "cell_type": "code",
      "source": [
        "sqlite_file = '/content/drive/MyDrive/Colab Notebooks/DATA-MINING-PACK/boston.db'"
      ],
      "metadata": {
        "id": "UT08cKY4rrBT"
      },
      "execution_count": 2,
      "outputs": []
    },
    {
      "cell_type": "code",
      "source": [
        "# connecting to the database file\n",
        "conn = sqlite3.connect(sqlite_file)"
      ],
      "metadata": {
        "id": "R4dvl0Zpr9EG"
      },
      "execution_count": 3,
      "outputs": []
    },
    {
      "cell_type": "code",
      "source": [
        "# initialize a cursor object\n",
        "cur = conn.cursor()"
      ],
      "metadata": {
        "id": "6cc2P09mst2w"
      },
      "execution_count": 7,
      "outputs": []
    },
    {
      "cell_type": "code",
      "source": [
        "# define a traversing search\n",
        "cur.execute(\"select * from boston limit 5;\")"
      ],
      "metadata": {
        "colab": {
          "base_uri": "https://localhost:8080/"
        },
        "id": "4CetqMiPsHe5",
        "outputId": "5845e748-11fa-4faa-cb02-3e6bd861913c"
      },
      "execution_count": 8,
      "outputs": [
        {
          "output_type": "execute_result",
          "data": {
            "text/plain": [
              "<sqlite3.Cursor at 0x7fd974a65b20>"
            ]
          },
          "metadata": {},
          "execution_count": 8
        }
      ]
    },
    {
      "cell_type": "code",
      "source": [
        "# fetch and print\n",
        "data = cur.fetchall()\n",
        "print(data)"
      ],
      "metadata": {
        "colab": {
          "base_uri": "https://localhost:8080/"
        },
        "id": "kFOgqhK3tEDu",
        "outputId": "830eda5c-4475-45ed-f518-78a01fd71ba1"
      },
      "execution_count": 9,
      "outputs": [
        {
          "output_type": "stream",
          "name": "stdout",
          "text": [
            "[(0, 0.00632, 18.0, 2.31, 0.0, 0.538, 6.575, 65.2, 4.09, 1.0, 296.0, 15.3, 396.9, 4.98, 24.0), (1, 0.02731, 0.0, 7.07, 0.0, 0.469, 6.421, 78.9, 4.9671, 2.0, 242.0, 17.8, 396.9, 9.14, 21.6), (2, 0.02729, 0.0, 7.07, 0.0, 0.469, 7.185, 61.1, 4.9671, 2.0, 242.0, 17.8, 392.83, 4.03, 34.7), (3, 0.03237, 0.0, 2.18, 0.0, 0.458, 6.998, 45.8, 6.0622, 3.0, 222.0, 18.7, 394.63, 2.94, 33.4), (4, 0.06905, 0.0, 2.18, 0.0, 0.458, 7.147, 54.2, 6.0622, 3.0, 222.0, 18.7, 396.9, 5.33, 36.2)]\n"
          ]
        }
      ]
    },
    {
      "cell_type": "code",
      "source": [
        "cur.execute(\"select ZN from boston where ZN > 0.0;\")\n",
        "data = cur.fetchall()\n",
        "print(data)"
      ],
      "metadata": {
        "colab": {
          "base_uri": "https://localhost:8080/"
        },
        "id": "Ydmo9hpVtOw3",
        "outputId": "5d636a20-1ab6-4950-98be-859e3462e259"
      },
      "execution_count": 10,
      "outputs": [
        {
          "output_type": "stream",
          "name": "stdout",
          "text": [
            "[(18.0,), (12.5,), (12.5,), (12.5,), (12.5,), (12.5,), (12.5,), (12.5,), (75.0,), (75.0,), (21.0,), (21.0,), (21.0,), (21.0,), (75.0,), (90.0,), (85.0,), (100.0,), (25.0,), (25.0,), (25.0,), (25.0,), (25.0,), (25.0,), (17.5,), (80.0,), (80.0,), (12.5,), (12.5,), (12.5,), (25.0,), (25.0,), (25.0,), (25.0,), (28.0,), (28.0,), (28.0,), (45.0,), (45.0,), (45.0,), (45.0,), (45.0,), (45.0,), (60.0,), (60.0,), (80.0,), (80.0,), (80.0,), (80.0,), (95.0,), (95.0,), (82.5,), (82.5,), (95.0,), (95.0,), (30.0,), (30.0,), (30.0,), (30.0,), (30.0,), (30.0,), (22.0,), (22.0,), (22.0,), (22.0,), (22.0,), (22.0,), (22.0,), (22.0,), (22.0,), (22.0,), (80.0,), (80.0,), (90.0,), (20.0,), (20.0,), (20.0,), (20.0,), (20.0,), (20.0,), (20.0,), (20.0,), (20.0,), (20.0,), (20.0,), (20.0,), (20.0,), (20.0,), (20.0,), (20.0,), (20.0,), (40.0,), (40.0,), (40.0,), (40.0,), (40.0,), (20.0,), (20.0,), (20.0,), (20.0,), (90.0,), (90.0,), (55.0,), (80.0,), (52.5,), (52.5,), (52.5,), (80.0,), (80.0,), (80.0,), (70.0,), (70.0,), (70.0,), (34.0,), (34.0,), (34.0,), (33.0,), (33.0,), (33.0,), (33.0,), (35.0,), (35.0,), (35.0,), (55.0,), (55.0,), (85.0,), (80.0,), (40.0,), (40.0,), (60.0,), (60.0,), (90.0,), (80.0,), (80.0,)]\n"
          ]
        }
      ]
    },
    {
      "cell_type": "code",
      "source": [
        "import pandas as pd\n",
        "# get all data inside boston table limited to 5 rows\n",
        "df = pd.read_sql_query(\"select * from boston limit 5;\", conn)\n",
        "print(\"df_shape = \" + str(df.shape))"
      ],
      "metadata": {
        "colab": {
          "base_uri": "https://localhost:8080/"
        },
        "id": "PNnX9KFOvQ3K",
        "outputId": "37495cb1-5513-4ad7-9377-d8544b06cdaf"
      },
      "execution_count": 11,
      "outputs": [
        {
          "output_type": "stream",
          "name": "stdout",
          "text": [
            "df_shape = (5, 15)\n"
          ]
        }
      ]
    },
    {
      "cell_type": "code",
      "source": [
        "# get all data inside boston table\n",
        "df = pd.read_sql_query(\"select * from boston;\", conn)\n",
        "print(\"df.shape = \" + str(df.shape))\n",
        "print(\"Sanity check with pandas head():\")\n",
        "print(df.head())\n",
        "print(\"Summarize with pandas describe():\")\n",
        "print(df.describe().transpose())"
      ],
      "metadata": {
        "colab": {
          "base_uri": "https://localhost:8080/"
        },
        "id": "MxrDqOD_vmUP",
        "outputId": "e9386732-b10f-4932-d272-ce3fa711f34d"
      },
      "execution_count": 12,
      "outputs": [
        {
          "output_type": "stream",
          "name": "stdout",
          "text": [
            "df.shape = (506, 15)\n",
            "Sanity check with pandas head():\n",
            "   record     CRIM    ZN  INDUS  CHAS  ...    TAX  PTRATIO       B  LSTAT  MEDV\n",
            "0       0  0.00632  18.0   2.31   0.0  ...  296.0     15.3  396.90   4.98  24.0\n",
            "1       1  0.02731   0.0   7.07   0.0  ...  242.0     17.8  396.90   9.14  21.6\n",
            "2       2  0.02729   0.0   7.07   0.0  ...  242.0     17.8  392.83   4.03  34.7\n",
            "3       3  0.03237   0.0   2.18   0.0  ...  222.0     18.7  394.63   2.94  33.4\n",
            "4       4  0.06905   0.0   2.18   0.0  ...  222.0     18.7  396.90   5.33  36.2\n",
            "\n",
            "[5 rows x 15 columns]\n",
            "Summarize with pandas describe():\n",
            "         count        mean         std  ...        50%         75%       max\n",
            "record   506.0  252.500000  146.213884  ...  252.50000  378.750000  505.0000\n",
            "CRIM     506.0    3.593761    8.596783  ...    0.25651    3.647423   88.9762\n",
            "ZN       506.0   11.363636   23.322453  ...    0.00000   12.500000  100.0000\n",
            "INDUS    506.0   11.136779    6.860353  ...    9.69000   18.100000   27.7400\n",
            "CHAS     506.0    0.069170    0.253994  ...    0.00000    0.000000    1.0000\n",
            "NOX      506.0    0.554695    0.115878  ...    0.53800    0.624000    0.8710\n",
            "RM       506.0    6.284634    0.702617  ...    6.20850    6.623500    8.7800\n",
            "AGE      506.0   68.574901   28.148861  ...   77.50000   94.075000  100.0000\n",
            "DIS      506.0    3.795043    2.105710  ...    3.20745    5.188425   12.1265\n",
            "RAD      506.0    9.549407    8.707259  ...    5.00000   24.000000   24.0000\n",
            "TAX      506.0  408.237154  168.537116  ...  330.00000  666.000000  711.0000\n",
            "PTRATIO  506.0   18.455534    2.164946  ...   19.05000   20.200000   22.0000\n",
            "B        506.0  356.674032   91.294864  ...  391.44000  396.225000  396.9000\n",
            "LSTAT    506.0   12.653063    7.141062  ...   11.36000   16.955000   37.9700\n",
            "MEDV     506.0   22.532806    9.197104  ...   21.20000   25.000000   50.0000\n",
            "\n",
            "[15 rows x 8 columns]\n"
          ]
        }
      ]
    },
    {
      "cell_type": "code",
      "source": [
        "# get all data inside boston table that has ZN greater than 0\n",
        "df = pd.read_sql_query(\"select * from boston where ZN > 0.0;\", conn)\n",
        "print(\"df.shape = \" + str(df.shape))"
      ],
      "metadata": {
        "colab": {
          "base_uri": "https://localhost:8080/"
        },
        "id": "bmqgEFU1wImL",
        "outputId": "f0bc57e3-1357-48c7-fbc5-d03f6e472535"
      },
      "execution_count": 14,
      "outputs": [
        {
          "output_type": "stream",
          "name": "stdout",
          "text": [
            "df.shape = (134, 15)\n"
          ]
        }
      ]
    },
    {
      "cell_type": "code",
      "source": [
        "# same as above with additional filtering in of records greater than 250\n",
        "df = pd.read_sql_query(\"select * from boston where ZN > 0.0 and record > 250;\", conn)\n",
        "print(\"df.shape = \" + str(df.shape))"
      ],
      "metadata": {
        "colab": {
          "base_uri": "https://localhost:8080/"
        },
        "id": "bxRCCtuLwqb-",
        "outputId": "07a9b933-8568-4392-f5f7-4b78a5b9b1ed"
      },
      "execution_count": 16,
      "outputs": [
        {
          "output_type": "stream",
          "name": "stdout",
          "text": [
            "df.shape = (66, 15)\n"
          ]
        }
      ]
    },
    {
      "cell_type": "code",
      "source": [
        "# example of multiline search syntax\n",
        "df = pd.read_sql_query(\n",
        "    \"\"\" select record, ZN, AGE, TAX from boston\n",
        "    \n",
        ")"
      ],
      "metadata": {
        "id": "8_DuwjBYxSLR"
      },
      "execution_count": null,
      "outputs": []
    }
  ]
}